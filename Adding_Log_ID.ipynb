{
 "cells": [
  {
   "cell_type": "code",
   "execution_count": 1,
   "metadata": {},
   "outputs": [],
   "source": [
    "import os\n",
    "from datetime import datetime, timezone\n",
    "import pandas as pd\n",
    "import numpy as np\n",
    "import matplotlib.pyplot as plt\n",
    "import seaborn as sns"
   ]
  },
  {
   "cell_type": "code",
   "execution_count": 2,
   "metadata": {},
   "outputs": [],
   "source": [
    "## (Change to path of dataframe)\n",
    "out_path = \"Version/\"\n",
    "\n",
    "csv0 = \"1_MergedCSV_0.csv\"\n",
    "csv1 = \"1_MergedCSV_1.csv\"\n",
    "csv2 = \"1_MergedCSV_2.csv\"\n",
    "csv3 = \"1_MergedCSV_3.csv\"\n",
    "csv4 = \"1_MergedCSV_4.csv\"\n",
    "\n",
    "df0 = pd.read_csv(out_path + csv0)\n",
    "df1 = pd.read_csv(out_path + csv1)\n",
    "df2 = pd.read_csv(out_path + csv2)\n",
    "df3 = pd.read_csv(out_path + csv3)\n",
    "df4 = pd.read_csv(out_path + csv4)"
   ]
  },
  {
   "cell_type": "code",
   "execution_count": 3,
   "metadata": {},
   "outputs": [],
   "source": [
    "csvs = [csv0, csv1, csv2, csv3, csv4]\n",
    "\n",
    "dfs = [df0, df1, df2, df3, df4]"
   ]
  },
  {
   "cell_type": "code",
   "execution_count": 4,
   "metadata": {},
   "outputs": [],
   "source": [
    "def Log_ID(df):\n",
    "    Logger_list = df[\"DEVICE_NAME\"].str.split(\"_\").apply(pd.Series)\n",
    "    Logger_id = Logger_list[3] + Logger_list[4] + Logger_list[5].astype(str)\n",
    "    df.insert(1, \"FIELD_ID\", Logger_id)\n",
    "    print(\"Log_ID Complete!!!\")\n",
    "    "
   ]
  },
  {
   "cell_type": "code",
   "execution_count": 5,
   "metadata": {},
   "outputs": [
    {
     "name": "stdout",
     "output_type": "stream",
     "text": [
      "Log_ID Complete!!!\n"
     ]
    }
   ],
   "source": [
    "Log_ID(df0)"
   ]
  },
  {
   "cell_type": "code",
   "execution_count": 6,
   "metadata": {},
   "outputs": [
    {
     "name": "stdout",
     "output_type": "stream",
     "text": [
      "Log_ID Complete!!!\n"
     ]
    }
   ],
   "source": [
    "Log_ID(df1)"
   ]
  },
  {
   "cell_type": "code",
   "execution_count": 7,
   "metadata": {},
   "outputs": [
    {
     "name": "stdout",
     "output_type": "stream",
     "text": [
      "Log_ID Complete!!!\n"
     ]
    }
   ],
   "source": [
    "Log_ID(df2)"
   ]
  },
  {
   "cell_type": "code",
   "execution_count": 8,
   "metadata": {},
   "outputs": [
    {
     "name": "stdout",
     "output_type": "stream",
     "text": [
      "Log_ID Complete!!!\n"
     ]
    }
   ],
   "source": [
    "Log_ID(df3)"
   ]
  },
  {
   "cell_type": "code",
   "execution_count": 9,
   "metadata": {},
   "outputs": [
    {
     "name": "stdout",
     "output_type": "stream",
     "text": [
      "Log_ID Complete!!!\n"
     ]
    }
   ],
   "source": [
    "Log_ID(df4)"
   ]
  },
  {
   "cell_type": "code",
   "execution_count": 10,
   "metadata": {},
   "outputs": [
    {
     "name": "stdout",
     "output_type": "stream",
     "text": [
      "Updated csv 1_MergedCSV_0.csv...\n",
      "Updated csv 1_MergedCSV_1.csv...\n",
      "Updated csv 1_MergedCSV_2.csv...\n",
      "Updated csv 1_MergedCSV_3.csv...\n",
      "Updated csv 1_MergedCSV_4.csv...\n",
      "\n",
      " Csv Version Complete!!!\n"
     ]
    }
   ],
   "source": [
    "for csv, df in zip(csvs, dfs):\n",
    "    try:\n",
    "        Version, Data, Number = csv.split(\"_\")\n",
    "        df.to_csv(out_path + str(int(Version) + 1) + \"_\" + Data + \"_\" + Number, index = False)\n",
    "    except:\n",
    "        Version = 0\n",
    "        Data, Number = csv.split(\"_\")\n",
    "        df.to_csv(out_path + str(int(Version + 1)) + \"_\" + Data + \"_\" + Number, index = False)\n",
    "    print(\"Updated csv \" + csv + \"...\")\n",
    "print(\"\\n Csv Version Complete!!!\")"
   ]
  },
  {
   "cell_type": "code",
   "execution_count": 11,
   "metadata": {},
   "outputs": [
    {
     "name": "stdout",
     "output_type": "stream",
     "text": [
      "Version/2_MergedCSV_0.csv\n"
     ]
    }
   ],
   "source": [
    "Version, Data, Number = csv0.split(\"_\")\n",
    "print(out_path + str(int(Version) + 1) + \"_\" + Data + \"_\" + Number)"
   ]
  },
  {
   "cell_type": "code",
   "execution_count": 12,
   "metadata": {},
   "outputs": [
    {
     "data": {
      "text/plain": [
       "['1']"
      ]
     },
     "execution_count": 12,
     "metadata": {},
     "output_type": "execute_result"
    }
   ],
   "source": [
    "csv[0].split(\"_\")"
   ]
  },
  {
   "cell_type": "code",
   "execution_count": null,
   "metadata": {},
   "outputs": [],
   "source": []
  }
 ],
 "metadata": {
  "kernelspec": {
   "display_name": "Python 3",
   "language": "python",
   "name": "python3"
  },
  "language_info": {
   "codemirror_mode": {
    "name": "ipython",
    "version": 3
   },
   "file_extension": ".py",
   "mimetype": "text/x-python",
   "name": "python",
   "nbconvert_exporter": "python",
   "pygments_lexer": "ipython3",
   "version": "3.7.4"
  }
 },
 "nbformat": 4,
 "nbformat_minor": 5
}
