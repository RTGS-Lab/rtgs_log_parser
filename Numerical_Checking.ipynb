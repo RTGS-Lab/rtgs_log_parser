{
 "cells": [
  {
   "cell_type": "markdown",
   "metadata": {},
   "source": [
    "# Numerical Conversion and Range Checking \n",
    "\n",
    "This notebook converts numerical columns valid numerical data and then checks the range for each column. First, csvs with known headers will be uploaded. Then numerical conversion will be done by check the first row of each column. Finally, ranges with be check to see if the column values are reasonalbe. \n",
    "\n",
    "Luke Rosen\n",
    "\n",
    "8/22/2022\n",
    "\n"
   ]
  },
  {
   "cell_type": "code",
   "execution_count": 1,
   "metadata": {},
   "outputs": [],
   "source": [
    "import os\n",
    "from datetime import datetime\n",
    "import pandas as pd\n",
    "import numpy as np"
   ]
  },
  {
   "cell_type": "code",
   "execution_count": 2,
   "metadata": {},
   "outputs": [
    {
     "name": "stderr",
     "output_type": "stream",
     "text": [
      "D:\\Users\\Owner\\Anaconda3\\lib\\site-packages\\IPython\\core\\interactiveshell.py:3058: DtypeWarning: Columns (4,5,13,15,17,22,23,24) have mixed types. Specify dtype option on import or set low_memory=False.\n",
      "  interactivity=interactivity, compiler=compiler, result=result)\n",
      "D:\\Users\\Owner\\Anaconda3\\lib\\site-packages\\IPython\\core\\interactiveshell.py:3058: DtypeWarning: Columns (4,5,19,20,21,22,23,24) have mixed types. Specify dtype option on import or set low_memory=False.\n",
      "  interactivity=interactivity, compiler=compiler, result=result)\n"
     ]
    }
   ],
   "source": [
    "## Merged Dataframes That have Headers (Change to path of dataframe)\n",
    "df1 = pd.read_csv(\"Merged_Data_8_9_2022/concatCSV_1.csv\")\n",
    "df3 = pd.read_csv(\"Merged_Data_8_9_2022/concatCSV_3.csv\")\n",
    "df4 = pd.read_csv(\"Merged_Data_8_9_2022/concatCSV_4.csv\")"
   ]
  },
  {
   "cell_type": "markdown",
   "metadata": {},
   "source": [
    "## Numerical Convert\n",
    "\n",
    "This next cell converts mixed datatype columns to numerical. It assumes the column is numerical if the first value is a number (by checking if the float function is valid). It then converts all string values and -9999 values to np.nan."
   ]
  },
  {
   "cell_type": "code",
   "execution_count": 3,
   "metadata": {},
   "outputs": [],
   "source": [
    "def Numerical_Convert(df):\n",
    "    for col in df.columns:\n",
    "        try:\n",
    "            float(df[col].iloc[0])                              ## Tests for Numerical \n",
    "            df[col] = pd.to_numeric(df[col], errors = \"coerce\") ## Coverts string to nan \n",
    "            df[col] = df[col].replace(-9999.0, np.nan)          ## Coverts -9999.0 to nan\n",
    "            print(\"Done with column \" + str(col) + \"...\")\n",
    "        except:\n",
    "            print(\"Skipping column \" + str(col) + \"...\")        ## Skips if not numerical\n",
    "            continue \n",
    "    print(\"Numerical Conversion Complete!!!\")\n",
    "\n",
    "\n",
    "            "
   ]
  },
  {
   "cell_type": "code",
   "execution_count": 4,
   "metadata": {},
   "outputs": [
    {
     "name": "stdout",
     "output_type": "stream",
     "text": [
      "Skipping column DEVICE_NAME...\n",
      "Skipping column NODE_ID...\n",
      "Skipping column OG_FILENAME...\n",
      "Done with column Time.0.TIME...\n",
      "Done with column SHTC3.0.HUMIDITY...\n",
      "Done with column SHTC3.0.TEMPERATURE...\n",
      "Done with column TCS3400.0.LIGHT_RED...\n",
      "Done with column TCS3400.0.LIGHT_GREEN...\n",
      "Done with column TCS3400.0.LIGHT_BLUE...\n",
      "Done with column PAC1720.0.VOLTAGE...\n",
      "Done with column PAC1720.0.CURRENT...\n",
      "Done with column PAC1720.0.VOLTAGE_2...\n",
      "Done with column PAC1720.0.CURRENT_2...\n",
      "Done with column DS18.0...\n",
      "Done with column SoilMoisture.0...\n",
      "Done with column DS18.1...\n",
      "Done with column SoilMoisture.1...\n",
      "Done with column DS18.2...\n",
      "Done with column SoilMoisture.2...\n",
      "Done with column ApogeeO2.0.TEMPERATURE...\n",
      "Done with column ApogeeO2.0.REF...\n",
      "Done with column ApogeeO2.0.OXYGEN...\n",
      "Done with column Hedorah-NDIR.0.CO2...\n",
      "Done with column Hedorah-NDIR.0.HUMIDITY...\n",
      "Done with column Hedorah-NDIR.0.TEMPERATURE...\n",
      "Numerical Conversion Complete!!!\n"
     ]
    }
   ],
   "source": [
    "Numerical_Convert(df1)"
   ]
  },
  {
   "cell_type": "code",
   "execution_count": 5,
   "metadata": {},
   "outputs": [
    {
     "name": "stdout",
     "output_type": "stream",
     "text": [
      "Skipping column DEVICE_NAME...\n",
      "Skipping column NODE_ID...\n",
      "Skipping column OG_FILENAME...\n",
      "Done with column ParticleTime.0.TIME...\n",
      "Done with column SHTC3.0.HUMIDITY...\n",
      "Done with column SHTC3.0.TEMPERATURE...\n",
      "Done with column TCS3400.0.LIGHT_RED...\n",
      "Done with column TCS3400.0.LIGHT_GREEN...\n",
      "Done with column TCS3400.0.LIGHT_BLUE...\n",
      "Done with column PAC1720.0.VOLTAGE...\n",
      "Done with column PAC1720.0.CURRENT...\n",
      "Done with column PAC1720.0.VOLTAGE_2...\n",
      "Done with column PAC1720.0.CURRENT_2...\n",
      "Done with column DS18.0...\n",
      "Done with column SoilMoisture.0...\n",
      "Done with column DS18.1...\n",
      "Done with column SoilMoisture.1...\n",
      "Done with column DS18.2...\n",
      "Done with column SoilMoisture.2...\n",
      "Done with column ApogeeO2.0.TEMPERATURE...\n",
      "Done with column ApogeeO2.0.REF...\n",
      "Done with column ApogeeO2.0.OXYGEN...\n",
      "Done with column Hedorah-NDIR.0.CO2...\n",
      "Done with column Hedorah-NDIR.0.HUMIDITY...\n",
      "Done with column Hedorah-NDIR.0.TEMPERATURE...\n",
      "Numerical Conversion Complete!!!\n"
     ]
    }
   ],
   "source": [
    "Numerical_Convert(df3)"
   ]
  },
  {
   "cell_type": "code",
   "execution_count": 6,
   "metadata": {},
   "outputs": [
    {
     "name": "stdout",
     "output_type": "stream",
     "text": [
      "Skipping column DEVICE_NAME...\n",
      "Skipping column NODE_ID...\n",
      "Skipping column OG_FILENAME...\n",
      "Done with column Time.0.TIME...\n",
      "Done with column SHTC3.0.HUMIDITY...\n",
      "Done with column SHTC3.0.TEMPERATURE...\n",
      "Done with column TCS3400.0.LIGHT_RED...\n",
      "Done with column TCS3400.0.LIGHT_GREEN...\n",
      "Done with column TCS3400.0.LIGHT_BLUE...\n",
      "Done with column PAC1720.0.VOLTAGE...\n",
      "Done with column PAC1720.0.CURRENT...\n",
      "Done with column PAC1720.0.VOLTAGE_2...\n",
      "Done with column PAC1720.0.CURRENT_2...\n",
      "Done with column ApogeeO2.0.TEMPERATURE...\n",
      "Done with column ApogeeO2.0.REF...\n",
      "Done with column ApogeeO2.0.OXYGEN...\n",
      "Done with column ApogeeO2.1.TEMPERATURE...\n",
      "Done with column ApogeeO2.1.REF...\n",
      "Done with column ApogeeO2.1.OXYGEN...\n",
      "Done with column Hedorah-NDIR.0.CO2...\n",
      "Done with column Hedorah-NDIR.0.HUMIDITY...\n",
      "Done with column Hedorah-NDIR.0.TEMPERATURE...\n",
      "Done with column Hedorah-NDIR.1.CO2...\n",
      "Done with column Hedorah-NDIR.1.HUMIDITY...\n",
      "Done with column Hedorah-NDIR.1.TEMPERATURE...\n",
      "Numerical Conversion Complete!!!\n"
     ]
    }
   ],
   "source": [
    "Numerical_Convert(df4)"
   ]
  },
  {
   "cell_type": "markdown",
   "metadata": {},
   "source": [
    "## Range Checking\n",
    "\n",
    "This next cell uses column names and acceptible ranges (Discussed with GEMS) to check if all values in the columnh are within that range. For each column in the dataframe, a condition is established as None. Then the conditon changes dependeing if the column range values are accepable (True), or unacceptible (False).\n",
    "\n",
    "The inclusive ranges are: \n",
    "\n",
    "\"ApogeeO2\" (including \"ApogeeO2.*.TEMPATURE\") 3000-3000\n",
    "\n",
    "\"TEMPERATURE\" -40-85  degrees celcius\n",
    "\n",
    "\"DS18\" Same as temperature.\n",
    "\n",
    "\"HUMIDITY\"  0-100 Percent\n",
    "\n",
    "\"LIGHT\" Anything greater than 0 (0-2^16)\n",
    "\n",
    "\"TIME\" Between January 1st 1999 and May 31st 2022 (Need to change)\n",
    "\n",
    "\"SoilMoisture\" 0-3\n",
    "\n",
    "\"CURRENT\" -1000-1000\n",
    "\n",
    "\"VOLTAGE\" 0-12\n",
    "\n",
    "\"CO2\" 400-10000\n",
    "\n",
    "Notes:\n",
    "\n",
    "\"ApogeeO2\" conditon must be done before \"TEMPERATURE\" otherwise  \"ApogeeO2.*.TEMPATURE\" will have incorrect ranges. \n",
    "\n",
    "NA values must be dropped or the condition will result in False even if all other values are within range. "
   ]
  },
  {
   "cell_type": "code",
   "execution_count": 7,
   "metadata": {},
   "outputs": [],
   "source": [
    "def range_check(df):\n",
    "    for col in df.columns:\n",
    "        condition = None\n",
    "        if \"ApogeeO2\" in col:\n",
    "            condition = df[col].dropna().between(-3000, 3000).all()\n",
    "\n",
    "        elif \"TEMPERATURE\"  in col:\n",
    "            condition = df[col].dropna().between(-40, 85).all()\n",
    "            \n",
    "        elif \"DS18\"  in col:\n",
    "            condition = df[col].dropna().between(-40, 85).all()\n",
    "            \n",
    "        elif \"HUMIDITY\" in col:\n",
    "            condition = df[col].dropna().between(0, 100).all()\n",
    "            \n",
    "        elif \"LIGHT\" in col:\n",
    "            condition = df[col].dropna().between(0, 2**16).all()      \n",
    "  \n",
    "        elif \"TIME\" in col:\n",
    "            condition = df[col].dropna().between(datetime.timestamp(datetime(2019, 1, 1)), datetime.timestamp(datetime(2022, 5, 31))).all() ##Change Later\n",
    "\n",
    "        elif \"SoilMoisture\" in col:\n",
    "            condition = df[col].dropna().between(0, 3).all()\n",
    "\n",
    "        elif \"CURRENT\" in col:\n",
    "            condition = df[col].dropna().between(-1000, 1000).all()\n",
    "            \n",
    "        elif \"VOLTAGE\" in col:\n",
    "            condition = df[col].dropna().between(0, 12).all()\n",
    "            \n",
    "        elif \"CO2\" in col:\n",
    "            condition = df[col].dropna().between(400, 10000).all()\n",
    "\n",
    "        else:\n",
    "            pass   ## Skips non numerical colums and keeps condition as None.\n",
    "        \n",
    "        if condition == True:\n",
    "                print(\"Column \" + str(col) + \" is within acceptable ranges...\")\n",
    "        elif condition == False: \n",
    "                print(\"Column \" + str(col) + \" has values outside of the range!\")\n",
    "        elif condition == None:\n",
    "            print(\"Skipping column \" + col + \"...\")\n",
    "        \n",
    "    print(\"\\n Range Check Complete!!!\")"
   ]
  },
  {
   "cell_type": "code",
   "execution_count": 8,
   "metadata": {},
   "outputs": [
    {
     "name": "stdout",
     "output_type": "stream",
     "text": [
      "Skipping column DEVICE_NAME...\n",
      "Skipping column NODE_ID...\n",
      "Skipping column OG_FILENAME...\n",
      "Column Time.0.TIME has values outside of the range!\n",
      "Column SHTC3.0.HUMIDITY is within acceptable ranges...\n",
      "Column SHTC3.0.TEMPERATURE is within acceptable ranges...\n",
      "Column TCS3400.0.LIGHT_RED is within acceptable ranges...\n",
      "Column TCS3400.0.LIGHT_GREEN is within acceptable ranges...\n",
      "Column TCS3400.0.LIGHT_BLUE is within acceptable ranges...\n",
      "Column PAC1720.0.VOLTAGE has values outside of the range!\n",
      "Column PAC1720.0.CURRENT is within acceptable ranges...\n",
      "Column PAC1720.0.VOLTAGE_2 has values outside of the range!\n",
      "Column PAC1720.0.CURRENT_2 has values outside of the range!\n",
      "Column DS18.0 is within acceptable ranges...\n",
      "Column SoilMoisture.0 is within acceptable ranges...\n",
      "Column DS18.1 has values outside of the range!\n",
      "Column SoilMoisture.1 is within acceptable ranges...\n",
      "Column DS18.2 is within acceptable ranges...\n",
      "Column SoilMoisture.2 is within acceptable ranges...\n",
      "Column ApogeeO2.0.TEMPERATURE has values outside of the range!\n",
      "Column ApogeeO2.0.REF has values outside of the range!\n",
      "Column ApogeeO2.0.OXYGEN is within acceptable ranges...\n",
      "Column Hedorah-NDIR.0.CO2 has values outside of the range!\n",
      "Column Hedorah-NDIR.0.HUMIDITY is within acceptable ranges...\n",
      "Column Hedorah-NDIR.0.TEMPERATURE is within acceptable ranges...\n",
      "\n",
      " Range Check Complete!!!\n"
     ]
    }
   ],
   "source": [
    "range_check(df1)##All"
   ]
  },
  {
   "cell_type": "code",
   "execution_count": 9,
   "metadata": {},
   "outputs": [
    {
     "name": "stdout",
     "output_type": "stream",
     "text": [
      "Skipping column DEVICE_NAME...\n",
      "Skipping column NODE_ID...\n",
      "Skipping column OG_FILENAME...\n",
      "Column ParticleTime.0.TIME has values outside of the range!\n",
      "Column SHTC3.0.HUMIDITY is within acceptable ranges...\n",
      "Column SHTC3.0.TEMPERATURE is within acceptable ranges...\n",
      "Column TCS3400.0.LIGHT_RED is within acceptable ranges...\n",
      "Column TCS3400.0.LIGHT_GREEN is within acceptable ranges...\n",
      "Column TCS3400.0.LIGHT_BLUE is within acceptable ranges...\n",
      "Column PAC1720.0.VOLTAGE is within acceptable ranges...\n",
      "Column PAC1720.0.CURRENT is within acceptable ranges...\n",
      "Column PAC1720.0.VOLTAGE_2 is within acceptable ranges...\n",
      "Column PAC1720.0.CURRENT_2 is within acceptable ranges...\n",
      "Column DS18.0 is within acceptable ranges...\n",
      "Column SoilMoisture.0 is within acceptable ranges...\n",
      "Column DS18.1 is within acceptable ranges...\n",
      "Column SoilMoisture.1 is within acceptable ranges...\n",
      "Column DS18.2 is within acceptable ranges...\n",
      "Column SoilMoisture.2 is within acceptable ranges...\n",
      "Column ApogeeO2.0.TEMPERATURE is within acceptable ranges...\n",
      "Column ApogeeO2.0.REF is within acceptable ranges...\n",
      "Column ApogeeO2.0.OXYGEN is within acceptable ranges...\n",
      "Column Hedorah-NDIR.0.CO2 has values outside of the range!\n",
      "Column Hedorah-NDIR.0.HUMIDITY is within acceptable ranges...\n",
      "Column Hedorah-NDIR.0.TEMPERATURE is within acceptable ranges...\n",
      "\n",
      " Range Check Complete!!!\n"
     ]
    }
   ],
   "source": [
    "range_check(df3) ##Any"
   ]
  },
  {
   "cell_type": "code",
   "execution_count": 10,
   "metadata": {},
   "outputs": [
    {
     "name": "stdout",
     "output_type": "stream",
     "text": [
      "Skipping column DEVICE_NAME...\n",
      "Skipping column NODE_ID...\n",
      "Skipping column OG_FILENAME...\n",
      "Column Time.0.TIME has values outside of the range!\n",
      "Column SHTC3.0.HUMIDITY is within acceptable ranges...\n",
      "Column SHTC3.0.TEMPERATURE has values outside of the range!\n",
      "Column TCS3400.0.LIGHT_RED is within acceptable ranges...\n",
      "Column TCS3400.0.LIGHT_GREEN is within acceptable ranges...\n",
      "Column TCS3400.0.LIGHT_BLUE is within acceptable ranges...\n",
      "Column PAC1720.0.VOLTAGE has values outside of the range!\n",
      "Column PAC1720.0.CURRENT has values outside of the range!\n",
      "Column PAC1720.0.VOLTAGE_2 has values outside of the range!\n",
      "Column PAC1720.0.CURRENT_2 has values outside of the range!\n",
      "Column ApogeeO2.0.TEMPERATURE has values outside of the range!\n",
      "Column ApogeeO2.0.REF has values outside of the range!\n",
      "Column ApogeeO2.0.OXYGEN is within acceptable ranges...\n",
      "Column ApogeeO2.1.TEMPERATURE has values outside of the range!\n",
      "Column ApogeeO2.1.REF has values outside of the range!\n",
      "Column ApogeeO2.1.OXYGEN is within acceptable ranges...\n",
      "Column Hedorah-NDIR.0.CO2 has values outside of the range!\n",
      "Column Hedorah-NDIR.0.HUMIDITY is within acceptable ranges...\n",
      "Column Hedorah-NDIR.0.TEMPERATURE is within acceptable ranges...\n",
      "Column Hedorah-NDIR.1.CO2 has values outside of the range!\n",
      "Column Hedorah-NDIR.1.HUMIDITY is within acceptable ranges...\n",
      "Column Hedorah-NDIR.1.TEMPERATURE is within acceptable ranges...\n",
      "\n",
      " Range Check Complete!!!\n"
     ]
    }
   ],
   "source": [
    "range_check(df4) ##All"
   ]
  },
  {
   "cell_type": "markdown",
   "metadata": {},
   "source": [
    "This notebook is complete."
   ]
  }
 ],
 "metadata": {
  "kernelspec": {
   "display_name": "Python 3",
   "language": "python",
   "name": "python3"
  },
  "language_info": {
   "codemirror_mode": {
    "name": "ipython",
    "version": 3
   },
   "file_extension": ".py",
   "mimetype": "text/x-python",
   "name": "python",
   "nbconvert_exporter": "python",
   "pygments_lexer": "ipython3",
   "version": "3.7.4"
  }
 },
 "nbformat": 4,
 "nbformat_minor": 2
}
